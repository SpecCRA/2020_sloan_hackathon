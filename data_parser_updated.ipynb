{
 "nbformat": 4,
 "nbformat_minor": 2,
 "metadata": {
  "language_info": {
   "name": "python",
   "codemirror_mode": {
    "name": "ipython",
    "version": 3
   },
   "version": "3.7.4-final"
  },
  "orig_nbformat": 2,
  "file_extension": ".py",
  "mimetype": "text/x-python",
  "name": "python",
  "npconvert_exporter": "python",
  "pygments_lexer": "ipython3",
  "version": 3,
  "kernelspec": {
   "name": "python3",
   "display_name": "Python 3"
  }
 },
 "cells": [
  {
   "cell_type": "code",
   "execution_count": 2,
   "metadata": {},
   "outputs": [],
   "source": [
    "import pandas as pd\n",
    "import numpy as np"
   ]
  },
  {
   "cell_type": "code",
   "execution_count": 3,
   "metadata": {},
   "outputs": [],
   "source": [
    "poss_file = 'explore-shottracker/timeseries/M_8279c1d6-4e02-11ea-ab59-024282923f19/M_8279c1d6-4e02-11ea-ab59-024282923f19_playerPossession.csv'\n",
    "\n",
    "shots_file = 'explore-shottracker/timeseries/M_8279c1d6-4e02-11ea-ab59-024282923f19/M_8279c1d6-4e02-11ea-ab59-024282923f19_shots.csv'\n",
    "\n",
    "poss_df = pd.read_csv(poss_file)\n",
    "shots_df = pd.read_csv(shots_file)"
   ]
  },
  {
   "cell_type": "code",
   "execution_count": 4,
   "metadata": {},
   "outputs": [
    {
     "data": {
      "text/plain": "2105"
     },
     "execution_count": 4,
     "metadata": {},
     "output_type": "execute_result"
    }
   ],
   "source": [
    "len(poss_df)"
   ]
  },
  {
   "cell_type": "code",
   "execution_count": 5,
   "metadata": {},
   "outputs": [
    {
     "data": {
      "text/plain": "271"
     },
     "execution_count": 5,
     "metadata": {},
     "output_type": "execute_result"
    }
   ],
   "source": [
    "len(shots_df)"
   ]
  },
  {
   "cell_type": "code",
   "execution_count": 6,
   "metadata": {},
   "outputs": [
    {
     "data": {
      "text/plain": "Index(['timestamp', 'eventVersion', 'event', 'sessionID', 'sessionState',\n       'group', 'playerID', 'playerSensorID', 'X', 'Y', 'Z', 'ballSensorID'],\n      dtype='object')"
     },
     "execution_count": 6,
     "metadata": {},
     "output_type": "execute_result"
    }
   ],
   "source": [
    "poss_df.columns"
   ]
  },
  {
   "cell_type": "code",
   "execution_count": 9,
   "metadata": {},
   "outputs": [],
   "source": [
    "poss_df = poss_df[['timestamp', 'event', 'group', 'playerID', 'X', 'Y']]"
   ]
  },
  {
   "cell_type": "code",
   "execution_count": 10,
   "metadata": {},
   "outputs": [],
   "source": [
    "shots_df = shots_df[['timestamp', 'event', 'group', 'playerID', 'playerX', 'playerY']]"
   ]
  },
  {
   "cell_type": "code",
   "execution_count": 27,
   "metadata": {},
   "outputs": [],
   "source": [
    "shots_df = shots_df.rename(columns={'playerX': 'X', 'playerY': 'Y'})"
   ]
  },
  {
   "cell_type": "code",
   "execution_count": 7,
   "metadata": {},
   "outputs": [
    {
     "data": {
      "text/plain": "Index(['timestamp', 'eventVersion', 'event', 'sessionID', 'sessionState',\n       'group', 'playerID', 'playerSensorID', 'firedTimestamp', 'playerX',\n       'playerY', 'playerZ', 'ballSensorID', 'hoopID', 'hoopX', 'hoopY',\n       'hoopZ'],\n      dtype='object')"
     },
     "execution_count": 7,
     "metadata": {},
     "output_type": "execute_result"
    }
   ],
   "source": [
    "shots_df.columns"
   ]
  },
  {
   "cell_type": "code",
   "execution_count": 28,
   "metadata": {},
   "outputs": [],
   "source": [
    "result_df = pd.concat([poss_df, shots_df])"
   ]
  },
  {
   "cell_type": "code",
   "execution_count": 34,
   "metadata": {},
   "outputs": [],
   "source": [
    "result_df = result_df.sort_values(['timestamp'])"
   ]
  },
  {
   "cell_type": "code",
   "execution_count": 21,
   "metadata": {},
   "outputs": [
    {
     "data": {
      "text/plain": "Index(['X', 'Y', 'event', 'group', 'playerID', 'playerX', 'playerY',\n       'timestamp'],\n      dtype='object')"
     },
     "execution_count": 21,
     "metadata": {},
     "output_type": "execute_result"
    }
   ],
   "source": [
    "result_df.columns"
   ]
  },
  {
   "cell_type": "code",
   "execution_count": 36,
   "metadata": {},
   "outputs": [
    {
     "data": {
      "text/html": "<div>\n<style scoped>\n    .dataframe tbody tr th:only-of-type {\n        vertical-align: middle;\n    }\n\n    .dataframe tbody tr th {\n        vertical-align: top;\n    }\n\n    .dataframe thead th {\n        text-align: right;\n    }\n</style>\n<table border=\"1\" class=\"dataframe\">\n  <thead>\n    <tr style=\"text-align: right;\">\n      <th></th>\n      <th>timestamp</th>\n      <th>event</th>\n      <th>group</th>\n      <th>playerID</th>\n      <th>X</th>\n      <th>Y</th>\n    </tr>\n  </thead>\n  <tbody>\n    <tr>\n      <td>0</td>\n      <td>1581564101456</td>\n      <td>enrichedgotpossession</td>\n      <td>1730</td>\n      <td>78852.0</td>\n      <td>4848.0</td>\n      <td>-4317.0</td>\n    </tr>\n    <tr>\n      <td>1</td>\n      <td>1581564101763</td>\n      <td>enrichedlostpossession</td>\n      <td>1730</td>\n      <td>78852.0</td>\n      <td>4848.0</td>\n      <td>-4317.0</td>\n    </tr>\n    <tr>\n      <td>2</td>\n      <td>1581564102047</td>\n      <td>enrichedgotpossession</td>\n      <td>1730</td>\n      <td>67927.0</td>\n      <td>-1392.0</td>\n      <td>-3474.0</td>\n    </tr>\n    <tr>\n      <td>3</td>\n      <td>1581564103487</td>\n      <td>enrichedlostpossession</td>\n      <td>1730</td>\n      <td>67927.0</td>\n      <td>-1337.0</td>\n      <td>-2671.0</td>\n    </tr>\n    <tr>\n      <td>4</td>\n      <td>1581564104123</td>\n      <td>enrichedgotpossession</td>\n      <td>1730</td>\n      <td>67906.0</td>\n      <td>-6427.0</td>\n      <td>-8179.0</td>\n    </tr>\n  </tbody>\n</table>\n</div>",
      "text/plain": "       timestamp                   event  group  playerID       X       Y\n0  1581564101456   enrichedgotpossession   1730   78852.0  4848.0 -4317.0\n1  1581564101763  enrichedlostpossession   1730   78852.0  4848.0 -4317.0\n2  1581564102047   enrichedgotpossession   1730   67927.0 -1392.0 -3474.0\n3  1581564103487  enrichedlostpossession   1730   67927.0 -1337.0 -2671.0\n4  1581564104123   enrichedgotpossession   1730   67906.0 -6427.0 -8179.0"
     },
     "execution_count": 36,
     "metadata": {},
     "output_type": "execute_result"
    }
   ],
   "source": [
    "result_df.head()"
   ]
  },
  {
   "cell_type": "code",
   "execution_count": 37,
   "metadata": {},
   "outputs": [
    {
     "data": {
      "text/plain": "4848.0"
     },
     "execution_count": 37,
     "metadata": {},
     "output_type": "execute_result"
    }
   ],
   "source": [
    "result_df.X.iloc[0]"
   ]
  },
  {
   "cell_type": "code",
   "execution_count": 38,
   "metadata": {},
   "outputs": [
    {
     "data": {
      "text/plain": "1       4848.0\n2      -1392.0\n3      -1337.0\n4      -6427.0\n5      -5754.0\n         ...  \n2100    -717.0\n2101    -438.0\n2102    -595.0\n2103   -3684.0\n2104     618.0\nName: X, Length: 2375, dtype: float64"
     },
     "execution_count": 38,
     "metadata": {},
     "output_type": "execute_result"
    }
   ],
   "source": [
    "result_df.X.iloc[1:len(result_df)]"
   ]
  },
  {
   "cell_type": "code",
   "execution_count": 46,
   "metadata": {},
   "outputs": [],
   "source": [
    "end_X = np.array(result_df.X.iloc[1:len(result_df)])\n",
    "end_X = np.append(end_X, np.nan)"
   ]
  },
  {
   "cell_type": "code",
   "execution_count": 47,
   "metadata": {},
   "outputs": [
    {
     "data": {
      "text/plain": "2376"
     },
     "execution_count": 47,
     "metadata": {},
     "output_type": "execute_result"
    }
   ],
   "source": [
    "len(end_X)"
   ]
  },
  {
   "cell_type": "code",
   "execution_count": 49,
   "metadata": {},
   "outputs": [],
   "source": [
    "result_df['end_X'] = end_X"
   ]
  },
  {
   "cell_type": "code",
   "execution_count": 50,
   "metadata": {},
   "outputs": [
    {
     "data": {
      "text/html": "<div>\n<style scoped>\n    .dataframe tbody tr th:only-of-type {\n        vertical-align: middle;\n    }\n\n    .dataframe tbody tr th {\n        vertical-align: top;\n    }\n\n    .dataframe thead th {\n        text-align: right;\n    }\n</style>\n<table border=\"1\" class=\"dataframe\">\n  <thead>\n    <tr style=\"text-align: right;\">\n      <th></th>\n      <th>timestamp</th>\n      <th>event</th>\n      <th>group</th>\n      <th>playerID</th>\n      <th>X</th>\n      <th>Y</th>\n      <th>end_X</th>\n    </tr>\n  </thead>\n  <tbody>\n    <tr>\n      <td>0</td>\n      <td>1581564101456</td>\n      <td>enrichedgotpossession</td>\n      <td>1730</td>\n      <td>78852.0</td>\n      <td>4848.0</td>\n      <td>-4317.0</td>\n      <td>4848.0</td>\n    </tr>\n    <tr>\n      <td>1</td>\n      <td>1581564101763</td>\n      <td>enrichedlostpossession</td>\n      <td>1730</td>\n      <td>78852.0</td>\n      <td>4848.0</td>\n      <td>-4317.0</td>\n      <td>-1392.0</td>\n    </tr>\n    <tr>\n      <td>2</td>\n      <td>1581564102047</td>\n      <td>enrichedgotpossession</td>\n      <td>1730</td>\n      <td>67927.0</td>\n      <td>-1392.0</td>\n      <td>-3474.0</td>\n      <td>-1337.0</td>\n    </tr>\n    <tr>\n      <td>3</td>\n      <td>1581564103487</td>\n      <td>enrichedlostpossession</td>\n      <td>1730</td>\n      <td>67927.0</td>\n      <td>-1337.0</td>\n      <td>-2671.0</td>\n      <td>-6427.0</td>\n    </tr>\n    <tr>\n      <td>4</td>\n      <td>1581564104123</td>\n      <td>enrichedgotpossession</td>\n      <td>1730</td>\n      <td>67906.0</td>\n      <td>-6427.0</td>\n      <td>-8179.0</td>\n      <td>-5754.0</td>\n    </tr>\n  </tbody>\n</table>\n</div>",
      "text/plain": "       timestamp                   event  group  playerID       X       Y  \\\n0  1581564101456   enrichedgotpossession   1730   78852.0  4848.0 -4317.0   \n1  1581564101763  enrichedlostpossession   1730   78852.0  4848.0 -4317.0   \n2  1581564102047   enrichedgotpossession   1730   67927.0 -1392.0 -3474.0   \n3  1581564103487  enrichedlostpossession   1730   67927.0 -1337.0 -2671.0   \n4  1581564104123   enrichedgotpossession   1730   67906.0 -6427.0 -8179.0   \n\n    end_X  \n0  4848.0  \n1 -1392.0  \n2 -1337.0  \n3 -6427.0  \n4 -5754.0  "
     },
     "execution_count": 50,
     "metadata": {},
     "output_type": "execute_result"
    }
   ],
   "source": [
    "result_df.head()"
   ]
  },
  {
   "cell_type": "code",
   "execution_count": 51,
   "metadata": {},
   "outputs": [],
   "source": [
    "end_Y = np.array(result_df.Y.iloc[1:len(result_df)])\n",
    "end_Y = np.append(end_Y, np.nan)\n",
    "result_df['end_Y'] = end_Y"
   ]
  },
  {
   "cell_type": "code",
   "execution_count": 52,
   "metadata": {},
   "outputs": [
    {
     "data": {
      "text/html": "<div>\n<style scoped>\n    .dataframe tbody tr th:only-of-type {\n        vertical-align: middle;\n    }\n\n    .dataframe tbody tr th {\n        vertical-align: top;\n    }\n\n    .dataframe thead th {\n        text-align: right;\n    }\n</style>\n<table border=\"1\" class=\"dataframe\">\n  <thead>\n    <tr style=\"text-align: right;\">\n      <th></th>\n      <th>timestamp</th>\n      <th>event</th>\n      <th>group</th>\n      <th>playerID</th>\n      <th>X</th>\n      <th>Y</th>\n      <th>end_X</th>\n      <th>end_Y</th>\n    </tr>\n  </thead>\n  <tbody>\n    <tr>\n      <td>0</td>\n      <td>1581564101456</td>\n      <td>enrichedgotpossession</td>\n      <td>1730</td>\n      <td>78852.0</td>\n      <td>4848.0</td>\n      <td>-4317.0</td>\n      <td>4848.0</td>\n      <td>-4317.0</td>\n    </tr>\n    <tr>\n      <td>1</td>\n      <td>1581564101763</td>\n      <td>enrichedlostpossession</td>\n      <td>1730</td>\n      <td>78852.0</td>\n      <td>4848.0</td>\n      <td>-4317.0</td>\n      <td>-1392.0</td>\n      <td>-3474.0</td>\n    </tr>\n    <tr>\n      <td>2</td>\n      <td>1581564102047</td>\n      <td>enrichedgotpossession</td>\n      <td>1730</td>\n      <td>67927.0</td>\n      <td>-1392.0</td>\n      <td>-3474.0</td>\n      <td>-1337.0</td>\n      <td>-2671.0</td>\n    </tr>\n    <tr>\n      <td>3</td>\n      <td>1581564103487</td>\n      <td>enrichedlostpossession</td>\n      <td>1730</td>\n      <td>67927.0</td>\n      <td>-1337.0</td>\n      <td>-2671.0</td>\n      <td>-6427.0</td>\n      <td>-8179.0</td>\n    </tr>\n    <tr>\n      <td>4</td>\n      <td>1581564104123</td>\n      <td>enrichedgotpossession</td>\n      <td>1730</td>\n      <td>67906.0</td>\n      <td>-6427.0</td>\n      <td>-8179.0</td>\n      <td>-5754.0</td>\n      <td>-6146.0</td>\n    </tr>\n  </tbody>\n</table>\n</div>",
      "text/plain": "       timestamp                   event  group  playerID       X       Y  \\\n0  1581564101456   enrichedgotpossession   1730   78852.0  4848.0 -4317.0   \n1  1581564101763  enrichedlostpossession   1730   78852.0  4848.0 -4317.0   \n2  1581564102047   enrichedgotpossession   1730   67927.0 -1392.0 -3474.0   \n3  1581564103487  enrichedlostpossession   1730   67927.0 -1337.0 -2671.0   \n4  1581564104123   enrichedgotpossession   1730   67906.0 -6427.0 -8179.0   \n\n    end_X   end_Y  \n0  4848.0 -4317.0  \n1 -1392.0 -3474.0  \n2 -1337.0 -2671.0  \n3 -6427.0 -8179.0  \n4 -5754.0 -6146.0  "
     },
     "execution_count": 52,
     "metadata": {},
     "output_type": "execute_result"
    }
   ],
   "source": [
    "result_df.head()"
   ]
  },
  {
   "cell_type": "code",
   "execution_count": 53,
   "metadata": {},
   "outputs": [
    {
     "data": {
      "text/html": "<div>\n<style scoped>\n    .dataframe tbody tr th:only-of-type {\n        vertical-align: middle;\n    }\n\n    .dataframe tbody tr th {\n        vertical-align: top;\n    }\n\n    .dataframe thead th {\n        text-align: right;\n    }\n</style>\n<table border=\"1\" class=\"dataframe\">\n  <thead>\n    <tr style=\"text-align: right;\">\n      <th></th>\n      <th>timestamp</th>\n      <th>event</th>\n      <th>group</th>\n      <th>playerID</th>\n      <th>X</th>\n      <th>Y</th>\n      <th>end_X</th>\n      <th>end_Y</th>\n    </tr>\n  </thead>\n  <tbody>\n    <tr>\n      <td>2100</td>\n      <td>1581570686810</td>\n      <td>enrichedlostpossession</td>\n      <td>1737</td>\n      <td>68012.0</td>\n      <td>-717.0</td>\n      <td>-10924.0</td>\n      <td>-438.0</td>\n      <td>-14682.0</td>\n    </tr>\n    <tr>\n      <td>2101</td>\n      <td>1581570687116</td>\n      <td>enrichedgotpossession</td>\n      <td>1730</td>\n      <td>67927.0</td>\n      <td>-438.0</td>\n      <td>-14682.0</td>\n      <td>-595.0</td>\n      <td>-14824.0</td>\n    </tr>\n    <tr>\n      <td>2102</td>\n      <td>1581570687952</td>\n      <td>enrichedlostpossession</td>\n      <td>1730</td>\n      <td>67927.0</td>\n      <td>-595.0</td>\n      <td>-14824.0</td>\n      <td>-3684.0</td>\n      <td>2567.0</td>\n    </tr>\n    <tr>\n      <td>2103</td>\n      <td>1581570690439</td>\n      <td>enrichedgotpossession</td>\n      <td>1730</td>\n      <td>78846.0</td>\n      <td>-3684.0</td>\n      <td>2567.0</td>\n      <td>618.0</td>\n      <td>2030.0</td>\n    </tr>\n    <tr>\n      <td>2104</td>\n      <td>1581570695039</td>\n      <td>enrichedlostpossession</td>\n      <td>1730</td>\n      <td>78846.0</td>\n      <td>618.0</td>\n      <td>2030.0</td>\n      <td>NaN</td>\n      <td>NaN</td>\n    </tr>\n  </tbody>\n</table>\n</div>",
      "text/plain": "          timestamp                   event  group  playerID       X        Y  \\\n2100  1581570686810  enrichedlostpossession   1737   68012.0  -717.0 -10924.0   \n2101  1581570687116   enrichedgotpossession   1730   67927.0  -438.0 -14682.0   \n2102  1581570687952  enrichedlostpossession   1730   67927.0  -595.0 -14824.0   \n2103  1581570690439   enrichedgotpossession   1730   78846.0 -3684.0   2567.0   \n2104  1581570695039  enrichedlostpossession   1730   78846.0   618.0   2030.0   \n\n       end_X    end_Y  \n2100  -438.0 -14682.0  \n2101  -595.0 -14824.0  \n2102 -3684.0   2567.0  \n2103   618.0   2030.0  \n2104     NaN      NaN  "
     },
     "execution_count": 53,
     "metadata": {},
     "output_type": "execute_result"
    }
   ],
   "source": [
    "result_df.tail()"
   ]
  },
  {
   "cell_type": "code",
   "execution_count": 54,
   "metadata": {},
   "outputs": [],
   "source": [
    "result_df = result_df.rename(columns={'X': 'start_X', 'Y': 'start_Y'})"
   ]
  },
  {
   "cell_type": "code",
   "execution_count": null,
   "metadata": {},
   "outputs": [],
   "source": [
    "def classify_action(df):\n",
    "    if 'make' or 'miss' "
   ]
  }
 ]
}